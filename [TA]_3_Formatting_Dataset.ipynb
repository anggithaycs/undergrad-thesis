{
  "nbformat": 4,
  "nbformat_minor": 0,
  "metadata": {
    "colab": {
      "name": "[TA] 3. Formatting Dataset.ipynb",
      "provenance": [],
      "collapsed_sections": [
        "yctA6VSDw0Mr"
      ],
      "mount_file_id": "1NX9ldyKQKGZ7pWHzqnTnQxgGm30xS2lz",
      "authorship_tag": "ABX9TyPtq0Hfu48Oqzvn39aVDyK0",
      "include_colab_link": true
    },
    "kernelspec": {
      "name": "python3",
      "display_name": "Python 3"
    }
  },
  "cells": [
    {
      "cell_type": "markdown",
      "metadata": {
        "id": "view-in-github",
        "colab_type": "text"
      },
      "source": [
        "<a href=\"https://colab.research.google.com/github/anggithaycs/undergrad-thesis/blob/codes/%5BTA%5D_3_Formatting_Dataset.ipynb\" target=\"_parent\"><img src=\"https://colab.research.google.com/assets/colab-badge.svg\" alt=\"Open In Colab\"/></a>"
      ]
    },
    {
      "cell_type": "markdown",
      "metadata": {
        "id": "oSIxKO8jnxyD"
      },
      "source": [
        "#Import Library"
      ]
    },
    {
      "cell_type": "code",
      "metadata": {
        "id": "pemfZ9mLnsy6"
      },
      "source": [
        "import pandas as pd\r\n",
        "from sklearn.model_selection import train_test_split"
      ],
      "execution_count": null,
      "outputs": []
    },
    {
      "cell_type": "markdown",
      "metadata": {
        "id": "7JRhq6B9n0a5"
      },
      "source": [
        "#**Translated**"
      ]
    },
    {
      "cell_type": "markdown",
      "metadata": {
        "id": "yu9DOTkxqWOB"
      },
      "source": [
        "##Import Datasets"
      ]
    },
    {
      "cell_type": "code",
      "metadata": {
        "id": "wrOY5zKgn4aH"
      },
      "source": [
        "trans_stop_stem = pd.read_csv('drive/My Drive/TA Lama/Preprocessing/data_trans_stop_stem.csv')\r\n",
        "trans_stop_nostem = pd.read_csv('drive/My Drive/TA Lama/Preprocessing/data_trans_stop_nostem.csv')\r\n",
        "trans_nostop_stem = pd.read_csv('drive/My Drive/TA Lama/Preprocessing/data_trans_nostop_stem.csv')\r\n",
        "trans_nostop_nostem = pd.read_csv('drive/My Drive/TA Lama/Preprocessing/data_trans_nostop_nostem.csv')"
      ],
      "execution_count": null,
      "outputs": []
    },
    {
      "cell_type": "code",
      "metadata": {
        "id": "K4Ie-xabURci"
      },
      "source": [
        "translated = pd.read_csv(\"drive/My Drive/TA/df_translated.csv\")"
      ],
      "execution_count": null,
      "outputs": []
    },
    {
      "cell_type": "code",
      "metadata": {
        "id": "ZGldQ9TvrnMr"
      },
      "source": [
        "translated = translated.dropna(axis = 0, subset=['review_text'])"
      ],
      "execution_count": null,
      "outputs": []
    },
    {
      "cell_type": "code",
      "metadata": {
        "id": "ZYtkiHOEsCzx"
      },
      "source": [
        "trans_stop_stem['harga'] = translated['harga'] \r\n",
        "trans_stop_stem['pengemasan'] = translated['pengemasan'] \r\n",
        "trans_stop_stem['produk'] = translated['produk'] \r\n",
        "trans_stop_stem['aroma'] = translated['aroma'] \r\n",
        "\r\n",
        "trans_stop_nostem['harga'] = translated['harga'] \r\n",
        "trans_stop_nostem['pengemasan'] = translated['pengemasan'] \r\n",
        "trans_stop_nostem['produk'] = translated['produk'] \r\n",
        "trans_stop_nostem['aroma'] = translated['aroma'] \r\n",
        "\r\n",
        "trans_nostop_stem['harga'] = translated['harga'] \r\n",
        "trans_nostop_stem['pengemasan'] = translated['pengemasan'] \r\n",
        "trans_nostop_stem['produk'] = translated['produk'] \r\n",
        "trans_nostop_stem['aroma'] = translated['aroma'] \r\n",
        "\r\n",
        "trans_nostop_nostem['harga'] = translated['harga'] \r\n",
        "trans_nostop_nostem['pengemasan'] = translated['pengemasan'] \r\n",
        "trans_nostop_nostem['produk'] = translated['produk'] \r\n",
        "trans_nostop_nostem['aroma'] = translated['aroma'] "
      ],
      "execution_count": null,
      "outputs": []
    },
    {
      "cell_type": "markdown",
      "metadata": {
        "id": "PMlOvh8wvZw2"
      },
      "source": [
        "##-> trans_stop_stem"
      ]
    },
    {
      "cell_type": "code",
      "metadata": {
        "id": "eTVQxonkt0_y"
      },
      "source": [
        "trans_stop_stem.drop(trans_stop_stem.columns[trans_stop_stem.columns.str.contains('ulasan',case = False)],axis = 1, inplace = True)"
      ],
      "execution_count": null,
      "outputs": []
    },
    {
      "cell_type": "code",
      "metadata": {
        "id": "cZ87IqOFs38E"
      },
      "source": [
        "trans_stop_stem = trans_stop_stem.dropna(axis = 0, subset=['harga'])"
      ],
      "execution_count": null,
      "outputs": []
    },
    {
      "cell_type": "code",
      "metadata": {
        "colab": {
          "base_uri": "https://localhost:8080/"
        },
        "id": "1hr_jV8mwiX4",
        "outputId": "aa245f9e-160e-443e-a6be-35a4355064d0"
      },
      "source": [
        "trans_stop_stem.rename(columns={'stemmed':'ulasan'}, inplace=True)"
      ],
      "execution_count": null,
      "outputs": [
        {
          "output_type": "stream",
          "text": [
            "/usr/local/lib/python3.6/dist-packages/pandas/core/frame.py:4308: SettingWithCopyWarning: \n",
            "A value is trying to be set on a copy of a slice from a DataFrame\n",
            "\n",
            "See the caveats in the documentation: https://pandas.pydata.org/pandas-docs/stable/user_guide/indexing.html#returning-a-view-versus-a-copy\n",
            "  errors=errors,\n"
          ],
          "name": "stderr"
        }
      ]
    },
    {
      "cell_type": "markdown",
      "metadata": {
        "id": "TxvI_GUBwuQs"
      },
      "source": [
        "##-> trans_stop_nostem"
      ]
    },
    {
      "cell_type": "code",
      "metadata": {
        "id": "pNzuY4KQxao1"
      },
      "source": [
        "trans_stop_nostem.drop(['review_id', 'review_text', 'review_text_1', 'review_text_2', 'review_text_3'],axis = 1, inplace = True)"
      ],
      "execution_count": null,
      "outputs": []
    },
    {
      "cell_type": "code",
      "metadata": {
        "id": "Iu-UCRxfzkCx"
      },
      "source": [
        "trans_stop_nostem = trans_stop_nostem.dropna(axis = 0, subset=['harga'])"
      ],
      "execution_count": null,
      "outputs": []
    },
    {
      "cell_type": "code",
      "metadata": {
        "id": "qkSbyVfXyVbZ"
      },
      "source": [
        "trans_stop_nostem.rename(columns={'review_text_4':'ulasan'}, inplace=True)"
      ],
      "execution_count": null,
      "outputs": []
    },
    {
      "cell_type": "code",
      "metadata": {
        "id": "wGz9rx8cyNEQ"
      },
      "source": [
        "trans_stop_nostem = trans_stop_nostem[['ulasan','harga','pengemasan','produk','aroma']]"
      ],
      "execution_count": null,
      "outputs": []
    },
    {
      "cell_type": "markdown",
      "metadata": {
        "id": "yctA6VSDw0Mr"
      },
      "source": [
        "##-> trans_nostop_stem"
      ]
    },
    {
      "cell_type": "code",
      "metadata": {
        "id": "30F0FI28z8cy"
      },
      "source": [
        "trans_nostop_stem.drop(['ulasan'],axis = 1, inplace = True)"
      ],
      "execution_count": null,
      "outputs": []
    },
    {
      "cell_type": "code",
      "metadata": {
        "id": "SArhtQQWz8cy"
      },
      "source": [
        "trans_nostop_stem = trans_nostop_stem.dropna(axis = 0, subset=['harga'])"
      ],
      "execution_count": null,
      "outputs": []
    },
    {
      "cell_type": "code",
      "metadata": {
        "id": "EiNdVKU9z8cy"
      },
      "source": [
        "trans_nostop_stem.rename(columns={'stemmed':'ulasan'}, inplace=True)"
      ],
      "execution_count": null,
      "outputs": []
    },
    {
      "cell_type": "markdown",
      "metadata": {
        "id": "hcUB-niSw0_A"
      },
      "source": [
        "##-> trans_nostop_nostem"
      ]
    },
    {
      "cell_type": "code",
      "metadata": {
        "colab": {
          "base_uri": "https://localhost:8080/",
          "height": 204
        },
        "id": "ouH_x5isxBpF",
        "outputId": "6acdc2ed-f303-4a60-9e3b-07ac04149ed5"
      },
      "source": [
        "trans_nostop_nostem.tail()"
      ],
      "execution_count": null,
      "outputs": [
        {
          "output_type": "execute_result",
          "data": {
            "text/html": [
              "<div>\n",
              "<style scoped>\n",
              "    .dataframe tbody tr th:only-of-type {\n",
              "        vertical-align: middle;\n",
              "    }\n",
              "\n",
              "    .dataframe tbody tr th {\n",
              "        vertical-align: top;\n",
              "    }\n",
              "\n",
              "    .dataframe thead th {\n",
              "        text-align: right;\n",
              "    }\n",
              "</style>\n",
              "<table border=\"1\" class=\"dataframe\">\n",
              "  <thead>\n",
              "    <tr style=\"text-align: right;\">\n",
              "      <th></th>\n",
              "      <th>harga</th>\n",
              "      <th>pengemasan</th>\n",
              "      <th>produk</th>\n",
              "      <th>aroma</th>\n",
              "      <th>ulasan</th>\n",
              "    </tr>\n",
              "  </thead>\n",
              "  <tbody>\n",
              "    <tr>\n",
              "      <th>5049</th>\n",
              "      <td>1.0</td>\n",
              "      <td>0.0</td>\n",
              "      <td>1.0</td>\n",
              "      <td>1.0</td>\n",
              "      <td>produk ini bikin bibirku jadi lembut dan halus...</td>\n",
              "    </tr>\n",
              "    <tr>\n",
              "      <th>5050</th>\n",
              "      <td>0.0</td>\n",
              "      <td>0.0</td>\n",
              "      <td>0.0</td>\n",
              "      <td>0.0</td>\n",
              "      <td>scrubnya lumayan sih badan berasa bersih dan l...</td>\n",
              "    </tr>\n",
              "    <tr>\n",
              "      <th>5051</th>\n",
              "      <td>0.0</td>\n",
              "      <td>0.0</td>\n",
              "      <td>0.0</td>\n",
              "      <td>0.0</td>\n",
              "      <td>gunakan ini dulu soalnya saya memang sering co...</td>\n",
              "    </tr>\n",
              "    <tr>\n",
              "      <th>5052</th>\n",
              "      <td>0.0</td>\n",
              "      <td>0.0</td>\n",
              "      <td>0.0</td>\n",
              "      <td>1.0</td>\n",
              "      <td>harganya murah dan ekonomis sekali mudah didap...</td>\n",
              "    </tr>\n",
              "    <tr>\n",
              "      <th>5053</th>\n",
              "      <td>0.0</td>\n",
              "      <td>0.0</td>\n",
              "      <td>0.0</td>\n",
              "      <td>1.0</td>\n",
              "      <td>suka sama lulur ini harga murah meriah varian ...</td>\n",
              "    </tr>\n",
              "  </tbody>\n",
              "</table>\n",
              "</div>"
            ],
            "text/plain": [
              "      harga  ...                                             ulasan\n",
              "5049    1.0  ...  produk ini bikin bibirku jadi lembut dan halus...\n",
              "5050    0.0  ...  scrubnya lumayan sih badan berasa bersih dan l...\n",
              "5051    0.0  ...  gunakan ini dulu soalnya saya memang sering co...\n",
              "5052    0.0  ...  harganya murah dan ekonomis sekali mudah didap...\n",
              "5053    0.0  ...  suka sama lulur ini harga murah meriah varian ...\n",
              "\n",
              "[5 rows x 5 columns]"
            ]
          },
          "metadata": {
            "tags": []
          },
          "execution_count": 74
        }
      ]
    },
    {
      "cell_type": "code",
      "metadata": {
        "id": "AZoq3SP20vZj"
      },
      "source": [
        "trans_nostop_nostem.drop(['review_id', 'review_text', 'review_text_1', 'review_text_2', 'review_text_3'],axis = 1, inplace = True)"
      ],
      "execution_count": null,
      "outputs": []
    },
    {
      "cell_type": "code",
      "metadata": {
        "id": "Hql1ce2O0vZk"
      },
      "source": [
        "trans_nostop_nostem = trans_nostop_nostem.dropna(axis = 0, subset=['harga'])"
      ],
      "execution_count": null,
      "outputs": []
    },
    {
      "cell_type": "code",
      "metadata": {
        "id": "g3_JrfKo0vZk"
      },
      "source": [
        "trans_nostop_nostem.rename(columns={'review_text_4':'ulasan'}, inplace=True)"
      ],
      "execution_count": null,
      "outputs": []
    },
    {
      "cell_type": "code",
      "metadata": {
        "id": "-rUQzRiZ0vZk"
      },
      "source": [
        "trans_nostop_nostem = trans_stop_nostem[['ulasan','harga','pengemasan','produk','aroma']]"
      ],
      "execution_count": null,
      "outputs": []
    },
    {
      "cell_type": "markdown",
      "metadata": {
        "id": "Ke98jRQr32WM"
      },
      "source": [
        "#Export all datasets"
      ]
    },
    {
      "cell_type": "code",
      "metadata": {
        "id": "gQ065d-862Ax"
      },
      "source": [
        "trans_stop_stem.to_csv(\"drive/My Drive/TA Lama/Preprocessing/Format/data_trans_stop_stem.csv\", index = False)\r\n",
        "trans_stop_nostem.to_csv(\"drive/My Drive/TA Lama/Preprocessing/Format/data_trans_stop_nostem.csv\", index = False)\r\n",
        "trans_nostop_stem.to_csv(\"drive/My Drive/TA Lama/Preprocessing/Format/data_trans_nostop_stem.csv\", index = False)\r\n",
        "trans_nostop_nostem.to_csv(\"drive/My Drive/TA Lama/Preprocessing/Format/data_trans_nostop_nostem.csv\", index = False)"
      ],
      "execution_count": null,
      "outputs": []
    }
  ]
}