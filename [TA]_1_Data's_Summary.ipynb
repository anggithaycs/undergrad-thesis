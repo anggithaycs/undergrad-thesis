{
  "nbformat": 4,
  "nbformat_minor": 0,
  "metadata": {
    "colab": {
      "name": "[TA] 1. Data's Summary.ipynb",
      "provenance": [],
      "collapsed_sections": [],
      "mount_file_id": "1z3YycqgA6j2x548fYQ2nA3GHXi_YbJbJ",
      "authorship_tag": "ABX9TyMMaDNPVZerRVKkT0wdAA3E",
      "include_colab_link": true
    },
    "kernelspec": {
      "name": "python3",
      "display_name": "Python 3"
    }
  },
  "cells": [
    {
      "cell_type": "markdown",
      "metadata": {
        "id": "view-in-github",
        "colab_type": "text"
      },
      "source": [
        "<a href=\"https://colab.research.google.com/github/anggithaycs/undergrad-thesis/blob/codes/%5BTA%5D_1_Data's_Summary.ipynb\" target=\"_parent\"><img src=\"https://colab.research.google.com/assets/colab-badge.svg\" alt=\"Open In Colab\"/></a>"
      ]
    },
    {
      "cell_type": "code",
      "metadata": {
        "id": "ZW8xFtjYSPPS"
      },
      "source": [
        "import pandas as pd\r\n",
        "import matplotlib.pyplot as plt\r\n",
        "import seaborn as sns\r\n",
        "import numpy as np"
      ],
      "execution_count": null,
      "outputs": []
    },
    {
      "cell_type": "markdown",
      "metadata": {
        "id": "f8a4SNbsRqd-"
      },
      "source": [
        "#Dataset 1"
      ]
    },
    {
      "cell_type": "code",
      "metadata": {
        "id": "2uY1o8e0RplT"
      },
      "source": [
        "dataset = pd.read_csv('drive/My Drive/TA Lama/df_translated.csv')"
      ],
      "execution_count": null,
      "outputs": []
    },
    {
      "cell_type": "markdown",
      "metadata": {
        "id": "t987JMYyT23b"
      },
      "source": [
        "##Data Distribution"
      ]
    },
    {
      "cell_type": "code",
      "metadata": {
        "colab": {
          "base_uri": "https://localhost:8080/",
          "height": 298
        },
        "id": "P6QZU6QgT23l",
        "outputId": "1f52bfc1-5941-4394-988a-24c62ab14b05"
      },
      "source": [
        "sns.countplot(x='harga', data=dataset)\n",
        "    \n",
        "plt.title('Price Distribution')\n",
        "plt.ylabel('Number of Corpus')\n",
        "plt.xlabel('Label')\n",
        "plt.show()\n",
        "dataset['harga'].value_counts()"
      ],
      "execution_count": null,
      "outputs": [
        {
          "output_type": "display_data",
          "data": {
            "image/png": "[encoded data removed]",
            "text/plain": [
              "<Figure size 432x288 with 1 Axes>"
            ]
          },
          "metadata": {
            "tags": [],
            "needs_background": "light"
          }
        },
        {
          "output_type": "execute_result",
          "data": {
            "text/plain": [
              " 0    2880\n",
              " 1    1306\n",
              "-1     868\n",
              "Name: harga, dtype: int64"
            ]
          },
          "metadata": {
            "tags": []
          },
          "execution_count": 15
        }
      ]
    },
    {
      "cell_type": "code",
      "metadata": {
        "colab": {
          "base_uri": "https://localhost:8080/",
          "height": 298
        },
        "id": "z1nruP0NT23m",
        "outputId": "f0419dea-b3af-497a-dea8-6b19fca9b95a"
      },
      "source": [
        "sns.countplot(x='pengemasan', data=dataset)\n",
        "    \n",
        "plt.title('Packaging Distribution')\n",
        "plt.ylabel('Number of Corpus')\n",
        "plt.xlabel('Label')\n",
        "plt.show()\n",
        "dataset['pengemasan'].value_counts()"
      ],
      "execution_count": null,
      "outputs": [
        {
          "output_type": "display_data",
          "data": {
            "image/png": "[encoded data removed]",
            "text/plain": [
              "<Figure size 432x288 with 1 Axes>"
            ]
          },
          "metadata": {
            "tags": [],
            "needs_background": "light"
          }
        },
        {
          "output_type": "execute_result",
          "data": {
            "text/plain": [
              " 0    4322\n",
              " 1     506\n",
              "-1     226\n",
              "Name: pengemasan, dtype: int64"
            ]
          },
          "metadata": {
            "tags": []
          },
          "execution_count": 16
        }
      ]
    },
    {
      "cell_type": "code",
      "metadata": {
        "colab": {
          "base_uri": "https://localhost:8080/",
          "height": 298
        },
        "id": "2TmEbeidT23n",
        "outputId": "61d68e98-9915-49a9-faab-05075ccfeab6"
      },
      "source": [
        "sns.countplot(x='aroma', data=dataset)\n",
        "    \n",
        "plt.title('Fragrance Distribution')\n",
        "plt.ylabel('Number of Corpus')\n",
        "plt.xlabel('Label')\n",
        "plt.show()\n",
        "dataset['aroma'].value_counts()"
      ],
      "execution_count": null,
      "outputs": [
        {
          "output_type": "display_data",
          "data": {
            "image/png": "[encoded data removed]",
            "text/plain": [
              "<Figure size 432x288 with 1 Axes>"
            ]
          },
          "metadata": {
            "tags": [],
            "needs_background": "light"
          }
        },
        {
          "output_type": "execute_result",
          "data": {
            "text/plain": [
              " 0    3589\n",
              " 1    1218\n",
              "-1     247\n",
              "Name: aroma, dtype: int64"
            ]
          },
          "metadata": {
            "tags": []
          },
          "execution_count": 17
        }
      ]
    },
    {
      "cell_type": "code",
      "metadata": {
        "colab": {
          "base_uri": "https://localhost:8080/",
          "height": 298
        },
        "id": "4sFbICaNT23n",
        "outputId": "4601f6fe-f80c-40e7-fca6-d29c2ecc7a12"
      },
      "source": [
        "sns.countplot(x='produk', data=dataset)\n",
        "    \n",
        "plt.title('Product Distribution')\n",
        "plt.ylabel('Number of Corpus')\n",
        "plt.xlabel('Label')\n",
        "plt.show()\n",
        "dataset['produk'].value_counts()"
      ],
      "execution_count": null,
      "outputs": [
        {
          "output_type": "display_data",
          "data": {
            "image/png": "[encoded data removed]",
            "text/plain": [
              "<Figure size 432x288 with 1 Axes>"
            ]
          },
          "metadata": {
            "tags": [],
            "needs_background": "light"
          }
        },
        {
          "output_type": "execute_result",
          "data": {
            "text/plain": [
              " 1    3092\n",
              " 0    1264\n",
              "-1     698\n",
              "Name: produk, dtype: int64"
            ]
          },
          "metadata": {
            "tags": []
          },
          "execution_count": 18
        }
      ]
    }
  ]
}