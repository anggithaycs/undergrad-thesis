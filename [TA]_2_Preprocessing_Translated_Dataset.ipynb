{
  "nbformat": 4,
  "nbformat_minor": 0,
  "metadata": {
    "colab": {
      "name": "[TA] 2. Preprocessing Translated Dataset.ipynb",
      "provenance": [],
      "collapsed_sections": [
        "wbEjK2KCLqLl"
      ],
      "mount_file_id": "1aY8ffSpOjDJ538jx3_2GD4Nf5V-OcEQ2",
      "authorship_tag": "ABX9TyOsqOjJw/Jj939yP+v4NrgU",
      "include_colab_link": true
    },
    "kernelspec": {
      "name": "python3",
      "display_name": "Python 3"
    }
  },
  "cells": [
    {
      "cell_type": "markdown",
      "metadata": {
        "id": "view-in-github",
        "colab_type": "text"
      },
      "source": [
        "<a href=\"https://colab.research.google.com/github/anggithaycs/undergrad-thesis/blob/codes/%5BTA%5D_2_Preprocessing_Translated_Dataset.ipynb\" target=\"_parent\"><img src=\"https://colab.research.google.com/assets/colab-badge.svg\" alt=\"Open In Colab\"/></a>"
      ]
    },
    {
      "cell_type": "markdown",
      "metadata": {
        "id": "5qxYCtjOUvXk"
      },
      "source": [
        "#Importing library"
      ]
    },
    {
      "cell_type": "code",
      "metadata": {
        "id": "6p7BLmC2UQvY"
      },
      "source": [
        "import pandas as pd\n",
        "import matplotlib.pyplot as plt\n",
        "import numpy as np"
      ],
      "execution_count": null,
      "outputs": []
    },
    {
      "cell_type": "code",
      "metadata": {
        "id": "99ioS-XbVQ74",
        "colab": {
          "base_uri": "https://localhost:8080/"
        },
        "outputId": "87fe53ff-0e93-4d47-8d8a-a934ccf2f460"
      },
      "source": [
        "#importing NLTK\n",
        "!pip install nltk"
      ],
      "execution_count": null,
      "outputs": [
        {
          "output_type": "stream",
          "text": [
            "Requirement already satisfied: nltk in /usr/local/lib/python3.6/dist-packages (3.2.5)\n",
            "Requirement already satisfied: six in /usr/local/lib/python3.6/dist-packages (from nltk) (1.15.0)\n"
          ],
          "name": "stdout"
        }
      ]
    },
    {
      "cell_type": "code",
      "metadata": {
        "id": "SBlQtOMsV7jY"
      },
      "source": [
        "import nltk\n",
        "import matplotlib.pyplot as plt\n",
        "import seaborn as sns\n",
        "import time"
      ],
      "execution_count": null,
      "outputs": []
    },
    {
      "cell_type": "code",
      "metadata": {
        "colab": {
          "base_uri": "https://localhost:8080/"
        },
        "id": "XyX0I7L0kok1",
        "outputId": "d6fe5419-c252-454e-e914-12c2459df0f9"
      },
      "source": [
        "nltk.download('stopwords')"
      ],
      "execution_count": null,
      "outputs": [
        {
          "output_type": "stream",
          "text": [
            "[nltk_data] Downloading package stopwords to /root/nltk_data...\n",
            "[nltk_data]   Unzipping corpora/stopwords.zip.\n"
          ],
          "name": "stdout"
        },
        {
          "output_type": "execute_result",
          "data": {
            "text/plain": [
              "True"
            ]
          },
          "metadata": {
            "tags": []
          },
          "execution_count": 82
        }
      ]
    },
    {
      "cell_type": "code",
      "metadata": {
        "id": "eKoDb7xekg5O"
      },
      "source": [
        "from nltk.corpus import stopwords"
      ],
      "execution_count": null,
      "outputs": []
    },
    {
      "cell_type": "markdown",
      "metadata": {
        "id": "RxevdG_zUbpv"
      },
      "source": [
        "#Reading data\n",
        "Data yang sudah diterjemahkan"
      ]
    },
    {
      "cell_type": "code",
      "metadata": {
        "id": "P8FDtox3NWfy"
      },
      "source": [
        "df = pd.read_csv(\"drive/My Drive/TA Lama/df_translated.csv\")"
      ],
      "execution_count": null,
      "outputs": []
    },
    {
      "cell_type": "code",
      "metadata": {
        "colab": {
          "base_uri": "https://localhost:8080/",
          "height": 53
        },
        "id": "8VpVF-_cNWfz",
        "outputId": "54dd9631-8373-4763-8259-2b690440f883"
      },
      "source": [
        "df['review_text'][0]"
      ],
      "execution_count": null,
      "outputs": [
        {
          "output_type": "execute_result",
          "data": {
            "application/vnd.google.colaboratory.intrinsic+json": {
              "type": "string"
            },
            "text/plain": [
              "'tabir surya termahal yang pernah gue beli ini kayanya. tapi worth it sih dan pasti akan beli lagi. sukanya sama suncreen ini: - spf tinggi - jangan meninggalkan gips putih. menyatu dengan sempurna ke dalam kulit - nggak membuat muka berminyak - very light - tidak menyumbat pori-pori produk ini berhasil membuat gue jadi mau pakai sunscreen :)'"
            ]
          },
          "metadata": {
            "tags": []
          },
          "execution_count": 3
        }
      ]
    },
    {
      "cell_type": "markdown",
      "metadata": {
        "id": "7mFAsduu16so"
      },
      "source": [
        ""
      ]
    },
    {
      "cell_type": "markdown",
      "metadata": {
        "id": "_xgC3R58GZ9U"
      },
      "source": [
        "#**Data Analysis**"
      ]
    },
    {
      "cell_type": "markdown",
      "metadata": {
        "id": "wbEjK2KCLqLl"
      },
      "source": [
        "##Data Distribution"
      ]
    },
    {
      "cell_type": "code",
      "metadata": {
        "colab": {
          "base_uri": "https://localhost:8080/",
          "height": 295
        },
        "id": "Sgmp_P28MATG",
        "outputId": "7491d5ce-efbb-4493-d4af-6126d6c60c37"
      },
      "source": [
        "sns.countplot(x='harga', data=df)\n",
        "    \n",
        "plt.title('Distribusi Harga')\n",
        "plt.ylabel('Jumlah Anggota')\n",
        "plt.xlabel('Label')\n",
        "plt.show()"
      ],
      "execution_count": null,
      "outputs": [
        {
          "output_type": "display_data",
          "data": {
            "image/png": "[encoded data removed]",
            "text/plain": [
              "<Figure size 432x288 with 1 Axes>"
            ]
          },
          "metadata": {
            "tags": [],
            "needs_background": "light"
          }
        }
      ]
    },
    {
      "cell_type": "code",
      "metadata": {
        "colab": {
          "base_uri": "https://localhost:8080/",
          "height": 295
        },
        "id": "4j_N7Fx6MdwB",
        "outputId": "968ecfe5-61f3-46d1-e68d-52e8b98cd589"
      },
      "source": [
        "sns.countplot(x='pengemasan', data=df)\n",
        "    \n",
        "plt.title('Distribusi Pengemasan')\n",
        "plt.ylabel('Jumlah Anggota')\n",
        "plt.xlabel('Label')\n",
        "plt.show()"
      ],
      "execution_count": null,
      "outputs": [
        {
          "output_type": "display_data",
          "data": {
            "image/png": "[encoded data removed]",
            "text/plain": [
              "<Figure size 432x288 with 1 Axes>"
            ]
          },
          "metadata": {
            "tags": [],
            "needs_background": "light"
          }
        }
      ]
    },
    {
      "cell_type": "code",
      "metadata": {
        "colab": {
          "base_uri": "https://localhost:8080/",
          "height": 295
        },
        "id": "2IxJRseNMetu",
        "outputId": "f62dca79-ca90-471d-f7f8-03200f8444d7"
      },
      "source": [
        "sns.countplot(x='produk', data=df)\n",
        "    \n",
        "plt.title('Distribusi Produk')\n",
        "plt.ylabel('Jumlah Anggota')\n",
        "plt.xlabel('Label')\n",
        "plt.show()"
      ],
      "execution_count": null,
      "outputs": [
        {
          "output_type": "display_data",
          "data": {
            "image/png": "[encoded data removed]",
            "text/plain": [
              "<Figure size 432x288 with 1 Axes>"
            ]
          },
          "metadata": {
            "tags": [],
            "needs_background": "light"
          }
        }
      ]
    },
    {
      "cell_type": "code",
      "metadata": {
        "colab": {
          "base_uri": "https://localhost:8080/",
          "height": 295
        },
        "id": "ajY8LSD5Mcy3",
        "outputId": "610bb21a-6ab4-48d4-f16a-ec1414e0b9f8"
      },
      "source": [
        "sns.countplot(x='aroma', data=df)\n",
        "    \n",
        "plt.title('Distribusi Aroma')\n",
        "plt.ylabel('Jumlah Anggota')\n",
        "plt.xlabel('Label')\n",
        "plt.show()"
      ],
      "execution_count": null,
      "outputs": [
        {
          "output_type": "display_data",
          "data": {
            "image/png": "[encoded data removed]",
            "text/plain": [
              "<Figure size 432x288 with 1 Axes>"
            ]
          },
          "metadata": {
            "tags": [],
            "needs_background": "light"
          }
        }
      ]
    },
    {
      "cell_type": "markdown",
      "metadata": {
        "id": "CDj_ClQPNN01"
      },
      "source": [
        "##Word Distribution\n",
        "\n",
        "**Dilihat dari persebaran top 20 most common words, hanya satu kata yang bisa tergolong ke penentuan sentimen yaitu kata 'suka', sedangkan sebagian besar lainnya adalah stopwords.**"
      ]
    },
    {
      "cell_type": "code",
      "metadata": {
        "id": "05kP72DhODOb"
      },
      "source": [
        "def get_top_n_words(corpus, n=None):\n",
        "    vec = CountVectorizer().fit(corpus)\n",
        "    bag_of_words = vec.transform(corpus)\n",
        "    sum_words = bag_of_words.sum(axis=0) \n",
        "    words_freq = [(word, sum_words[0, idx]) for word, idx in vec.vocabulary_.items()]\n",
        "    words_freq =sorted(words_freq, key = lambda x: x[1], reverse=True)\n",
        "    return words_freq[:n]"
      ],
      "execution_count": null,
      "outputs": []
    },
    {
      "cell_type": "code",
      "metadata": {
        "colab": {
          "base_uri": "https://localhost:8080/",
          "height": 443
        },
        "id": "_pUNrHphNLAR",
        "outputId": "4b06652d-3f0b-4e9e-c820-083b2fdfcee8"
      },
      "source": [
        "common_words_ = get_top_n_words(df['review_text'], 20)\n",
        "top_word = pd.DataFrame(common_words_, columns = ['review_text' , 'count'])\n",
        "fig, ax = plt.subplots(figsize=(10, 7))\n",
        "\n",
        "# Plot horizontal bar graph\n",
        "top_word.sort_values(by='count').plot(kind ='barh', x ='review_text', y ='count', ax = ax, color=\"salmon\")\n",
        "ax.set_title(\"Top 20 Common Words\")\n",
        "plt.show()"
      ],
      "execution_count": null,
      "outputs": [
        {
          "output_type": "display_data",
          "data": {
            "image/png": "[encoded data removed]",
            "text/plain": [
              "<Figure size 720x504 with 1 Axes>"
            ]
          },
          "metadata": {
            "tags": [],
            "needs_background": "light"
          }
        }
      ]
    },
    {
      "cell_type": "markdown",
      "metadata": {
        "id": "gTgK08hh7xam"
      },
      "source": [
        "#**Preprocessing**"
      ]
    },
    {
      "cell_type": "markdown",
      "metadata": {
        "id": "yUiSiZyKXuoX"
      },
      "source": [
        "###Remove special characters and punctuation"
      ]
    },
    {
      "cell_type": "code",
      "metadata": {
        "id": "SMANYINKV9m1"
      },
      "source": [
        "def cleaning(data):\n",
        "    df['review_text_1'] = df['review_text'].str.replace(\"\\\\\\\\r\", \" \")\n",
        "    df['review_text_1'] = df['review_text_1'].str.replace(\"\\\\\\\\n\", \" \")\n",
        "    df['review_text_1'] = df['review_text_1'].str.replace(\"\\n\", \" \")\n",
        "    df['review_text_1'] = df['review_text_1'].str.replace(\"\\r\", \" \")\n",
        "    df['review_text_1'] = df['review_text_1'].str.replace(\"&amp\", \" \")\n",
        "    df['review_text_1'] = df['review_text_1'].str.replace(\"&gt\", \" \")\n",
        "    df['review_text_1'] = df['review_text_1'].str.replace(\"&lt\", \" \")\n",
        "    df['review_text_1'] = df['review_text_1'].str.replace(\"    \", \" \")\n",
        "    df['review_text_1'] = df['review_text_1'].str.replace(r'''(?i)\\b((?:https|http?://|www\\d{0,3}[.]|[a-z0-9.\\-]+[.][a-z]{2,4}/)(?:[^\\s()<>]+|\\(([^\\s()<>]+|(\\([^\\s()<>]+\\)))*\\))+(?:\\(([^\\s()<>]+|(\\([^\\s()<>]+\\)))*\\)|[^\\s`!()\\[\\]{};:'\".,<>?«»“”‘’]))''', \" \")\n",
        "    df['review_text_1'] = df['review_text_1'].str.replace('\"', '')\n",
        "    df['review_text_1'] = df['review_text_1'].str.replace(\"\\\\\\\\x[a-zA-z0-9][a-zA-z0-9]\",\"\")\n",
        "    df['review_text_1'] =  df['review_text_1'].str.replace(\"'s\",\"\")\n",
        "    df['review_text_1'] =  df['review_text_1'].str.replace(\"can't\",\"can not\")\n",
        "    df['review_text_1'] =  df['review_text_1'].str.replace(\"ain't\",\"am not\")\n",
        "    df['review_text_1'] =  df['review_text_1'].str.replace(\"n't\",\" not\")\n",
        "    df['review_text_1'] =  df['review_text_1'].str.replace(\"'re\",\" are\")\n",
        "    df['review_text_1'] =  df['review_text_1'].str.replace('[^a-zA-Z0-9]+',' ')\n",
        "    return df"
      ],
      "execution_count": null,
      "outputs": []
    },
    {
      "cell_type": "code",
      "metadata": {
        "id": "Ej6qeusVYEN1"
      },
      "source": [
        "df = cleaning(df)"
      ],
      "execution_count": null,
      "outputs": []
    },
    {
      "cell_type": "code",
      "metadata": {
        "id": "QZ5lLMyPcI-G"
      },
      "source": [
        "#df.to_csv(\"drive/My Drive/TA/Case 1/Preprocessing/after-spechar.csv\", index = False)"
      ],
      "execution_count": null,
      "outputs": []
    },
    {
      "cell_type": "markdown",
      "metadata": {
        "id": "xAUZZcyuYfQ7"
      },
      "source": [
        "###Lowercase"
      ]
    },
    {
      "cell_type": "code",
      "metadata": {
        "id": "mXvWjrjAYaS_"
      },
      "source": [
        "def lowerCase(data):\n",
        "    data['review_text_2'] = data['review_text_1'].str.lower()\n",
        "    return data"
      ],
      "execution_count": null,
      "outputs": []
    },
    {
      "cell_type": "code",
      "metadata": {
        "id": "kveHpqXqYow3"
      },
      "source": [
        "df = lowerCase(df)"
      ],
      "execution_count": null,
      "outputs": []
    },
    {
      "cell_type": "code",
      "metadata": {
        "id": "XkLbt2JoNUap"
      },
      "source": [
        "#df.to_csv(\"drive/My Drive/TA/Case 1/Preprocessing/after-lowercase.csv\", index = False)"
      ],
      "execution_count": null,
      "outputs": []
    },
    {
      "cell_type": "markdown",
      "metadata": {
        "id": "SuTOY7A3F5p4"
      },
      "source": [
        "###Normalisasi"
      ]
    },
    {
      "cell_type": "code",
      "metadata": {
        "id": "zRXd_g4Ocba7",
        "colab": {
          "base_uri": "https://localhost:8080/",
          "height": 419
        },
        "outputId": "5f8e84fc-6e89-48b1-9338-e8f8e5e37be1"
      },
      "source": [
        "kamus_normal = pd.read_csv(\"drive/My Drive/TA Lama/normalisasi.csv\",header=None,names=[\"non-standard word\",\"standard word\"])\n",
        "kamus_normal"
      ],
      "execution_count": null,
      "outputs": [
        {
          "output_type": "execute_result",
          "data": {
            "text/html": [
              "<div>\n",
              "<style scoped>\n",
              "    .dataframe tbody tr th:only-of-type {\n",
              "        vertical-align: middle;\n",
              "    }\n",
              "\n",
              "    .dataframe tbody tr th {\n",
              "        vertical-align: top;\n",
              "    }\n",
              "\n",
              "    .dataframe thead th {\n",
              "        text-align: right;\n",
              "    }\n",
              "</style>\n",
              "<table border=\"1\" class=\"dataframe\">\n",
              "  <thead>\n",
              "    <tr style=\"text-align: right;\">\n",
              "      <th></th>\n",
              "      <th>non-standard word</th>\n",
              "      <th>standard word</th>\n",
              "    </tr>\n",
              "  </thead>\n",
              "  <tbody>\n",
              "    <tr>\n",
              "      <th>0</th>\n",
              "      <td>abis</td>\n",
              "      <td>habis</td>\n",
              "    </tr>\n",
              "    <tr>\n",
              "      <th>1</th>\n",
              "      <td>abisnya</td>\n",
              "      <td>habisnya</td>\n",
              "    </tr>\n",
              "    <tr>\n",
              "      <th>2</th>\n",
              "      <td>agak</td>\n",
              "      <td>sedikit</td>\n",
              "    </tr>\n",
              "    <tr>\n",
              "      <th>3</th>\n",
              "      <td>ak</td>\n",
              "      <td>saya</td>\n",
              "    </tr>\n",
              "    <tr>\n",
              "      <th>4</th>\n",
              "      <td>aku</td>\n",
              "      <td>saya</td>\n",
              "    </tr>\n",
              "    <tr>\n",
              "      <th>...</th>\n",
              "      <td>...</td>\n",
              "      <td>...</td>\n",
              "    </tr>\n",
              "    <tr>\n",
              "      <th>185</th>\n",
              "      <td>awesome</td>\n",
              "      <td>bagus</td>\n",
              "    </tr>\n",
              "    <tr>\n",
              "      <th>186</th>\n",
              "      <td>worth to buy</td>\n",
              "      <td>bagus</td>\n",
              "    </tr>\n",
              "    <tr>\n",
              "      <th>187</th>\n",
              "      <td>savior</td>\n",
              "      <td>andalan</td>\n",
              "    </tr>\n",
              "    <tr>\n",
              "      <th>188</th>\n",
              "      <td>worst</td>\n",
              "      <td>terburuk</td>\n",
              "    </tr>\n",
              "    <tr>\n",
              "      <th>189</th>\n",
              "      <td>worse</td>\n",
              "      <td>lebih buruk</td>\n",
              "    </tr>\n",
              "  </tbody>\n",
              "</table>\n",
              "<p>190 rows × 2 columns</p>\n",
              "</div>"
            ],
            "text/plain": [
              "    non-standard word standard word\n",
              "0                abis         habis\n",
              "1             abisnya      habisnya\n",
              "2                agak       sedikit\n",
              "3                  ak          saya\n",
              "4                 aku          saya\n",
              "..                ...           ...\n",
              "185           awesome         bagus\n",
              "186      worth to buy         bagus\n",
              "187            savior       andalan\n",
              "188             worst      terburuk\n",
              "189             worse   lebih buruk\n",
              "\n",
              "[190 rows x 2 columns]"
            ]
          },
          "metadata": {
            "tags": []
          },
          "execution_count": 25
        }
      ]
    },
    {
      "cell_type": "code",
      "metadata": {
        "id": "vNqAiOXsv7PB"
      },
      "source": [
        "nonstdword = kamus_normal['non-standard word'].values.tolist()\n",
        "stdword = kamus_normal['standard word'].values.tolist()"
      ],
      "execution_count": null,
      "outputs": []
    },
    {
      "cell_type": "code",
      "metadata": {
        "id": "DNwCm33JjXAR"
      },
      "source": [
        "def normalize_text(text, stdword_, nonstdword_):\n",
        "    text = str(text).split(\" \")\n",
        "    for i in range(len(text)):\n",
        "        if text[i] in nonstdword_:\n",
        "            index = nonstdword_.index(text[i])\n",
        "            text[i] = stdword_[index]\n",
        "    return ' '.join(map(str, text))"
      ],
      "execution_count": null,
      "outputs": []
    },
    {
      "cell_type": "code",
      "metadata": {
        "id": "RTzdJxAuqRNo"
      },
      "source": [
        "def normalizeData(data, stdword_, nonstdword_):\n",
        "    data['review_text_3'] = data['review_text_2']\n",
        "    data['review_text_3'] = data['review_text_3'].map(lambda com : normalize_text(com,stdword_,nonstdword_))\n",
        "    return data"
      ],
      "execution_count": null,
      "outputs": []
    },
    {
      "cell_type": "code",
      "metadata": {
        "id": "K9Ap43O4jtvy"
      },
      "source": [
        "df = normalizeData(df, stdword, nonstdword)"
      ],
      "execution_count": null,
      "outputs": []
    },
    {
      "cell_type": "markdown",
      "metadata": {
        "id": "2r0jfRoBzF0a"
      },
      "source": [
        "**Normalize 6 chunks**"
      ]
    },
    {
      "cell_type": "code",
      "metadata": {
        "id": "D-4ECU_fq1cA"
      },
      "source": [
        "df1 = df.loc[0:1000]"
      ],
      "execution_count": null,
      "outputs": []
    },
    {
      "cell_type": "code",
      "metadata": {
        "id": "Jq2RXigby1p0"
      },
      "source": [
        "df1 = normalizeData(df1, stdword, nonstdword)"
      ],
      "execution_count": null,
      "outputs": []
    },
    {
      "cell_type": "code",
      "metadata": {
        "id": "r7JeSNPxx_7q"
      },
      "source": [
        "df2 = df.loc[1000:2000]"
      ],
      "execution_count": null,
      "outputs": []
    },
    {
      "cell_type": "code",
      "metadata": {
        "id": "681-wGUfzPgb"
      },
      "source": [
        "df2 = normalizeData(df2, stdword, nonstdword)"
      ],
      "execution_count": null,
      "outputs": []
    },
    {
      "cell_type": "code",
      "metadata": {
        "id": "Z6k3tar3yNIF"
      },
      "source": [
        "df3 = df.loc[2000:3000]"
      ],
      "execution_count": null,
      "outputs": []
    },
    {
      "cell_type": "code",
      "metadata": {
        "id": "TF-C_HvVzT_f"
      },
      "source": [
        "df3 = normalizeData(df3, stdword, nonstdword)"
      ],
      "execution_count": null,
      "outputs": []
    },
    {
      "cell_type": "code",
      "metadata": {
        "id": "qFR6NTdTyNvR"
      },
      "source": [
        "df4 = df.loc[3000:4000]"
      ],
      "execution_count": null,
      "outputs": []
    },
    {
      "cell_type": "code",
      "metadata": {
        "id": "GKXARv1LzZmc"
      },
      "source": [
        "df4 = normalizeData(df4, stdword, nonstdword)"
      ],
      "execution_count": null,
      "outputs": []
    },
    {
      "cell_type": "code",
      "metadata": {
        "id": "iRUXZ4KzyVKt"
      },
      "source": [
        "df5 = df.loc[4000:5000]"
      ],
      "execution_count": null,
      "outputs": []
    },
    {
      "cell_type": "code",
      "metadata": {
        "id": "zh_FsMYBzopJ"
      },
      "source": [
        "df5 = normalizeData(df5, stdword, nonstdword)"
      ],
      "execution_count": null,
      "outputs": []
    },
    {
      "cell_type": "code",
      "metadata": {
        "id": "TUev3v-eyWFY"
      },
      "source": [
        "df6 = df.loc[5000:]"
      ],
      "execution_count": null,
      "outputs": []
    },
    {
      "cell_type": "code",
      "metadata": {
        "id": "8ostLvhizsDT"
      },
      "source": [
        "df6 = normalizeData(df6, stdword, nonstdword)"
      ],
      "execution_count": null,
      "outputs": []
    },
    {
      "cell_type": "code",
      "metadata": {
        "id": "Z__b0-N_VMQn"
      },
      "source": [
        "df = [df1,df2,df3,df4,df5,df6]\n",
        "df = pd.concat(df)"
      ],
      "execution_count": null,
      "outputs": []
    },
    {
      "cell_type": "code",
      "metadata": {
        "id": "BG3YXv74cY9y"
      },
      "source": [
        "#df.to_csv(\"drive/My Drive/TA/Case 1/Preprocessing/after-normalized.csv\", index = False)"
      ],
      "execution_count": null,
      "outputs": []
    },
    {
      "cell_type": "markdown",
      "metadata": {
        "id": "QJvR5Kegk-NX"
      },
      "source": [
        "### Menghilangkan Angka"
      ]
    },
    {
      "cell_type": "code",
      "metadata": {
        "id": "JRA2YvfFjz5Z"
      },
      "source": [
        "def removeNumb(data):\n",
        "    data['review_text_4'] = data['review_text_3'].str.replace('[^a-zA-Z]+',' ')\n",
        "    return data"
      ],
      "execution_count": null,
      "outputs": []
    },
    {
      "cell_type": "code",
      "metadata": {
        "id": "vQvjE0QZlLso"
      },
      "source": [
        "df = removeNumb(df)"
      ],
      "execution_count": null,
      "outputs": []
    },
    {
      "cell_type": "code",
      "metadata": {
        "id": "Lx4vFf7OcfvA"
      },
      "source": [
        "df.to_csv(\"drive/My Drive/TA/Preprocessing/data_trans_nostop_nostem.csv\", index = False)"
      ],
      "execution_count": null,
      "outputs": []
    },
    {
      "cell_type": "code",
      "metadata": {
        "id": "RnIgVHySmKwN"
      },
      "source": [
        "df = pd.read_csv(\"drive/My Drive/TA Lama/Preprocessing/data_trans_nostop_nostem.csv\")"
      ],
      "execution_count": null,
      "outputs": []
    },
    {
      "cell_type": "markdown",
      "metadata": {
        "id": "IpyOxFjBmVWQ"
      },
      "source": [
        "### Menghilangkan Stopwords"
      ]
    },
    {
      "cell_type": "markdown",
      "metadata": {
        "id": "G54q_noQmVWQ"
      },
      "source": [
        "Menghapus kata yang tidak mempunyai makna dengan membuat kamus kata terlebih dahulu"
      ]
    },
    {
      "cell_type": "code",
      "metadata": {
        "id": "lcVcXitjti-P"
      },
      "source": [
        "stop_words = stopwords.words('english')"
      ],
      "execution_count": null,
      "outputs": []
    },
    {
      "cell_type": "code",
      "metadata": {
        "id": "J8oee3gZmVWR"
      },
      "source": [
        "meaningless = pd.read_csv(\"drive/My Drive/TA Lama/stopwords_indo.csv\",header=None,names=['stopword'])\n",
        "meaningless = meaningless['stopword'].tolist()"
      ],
      "execution_count": null,
      "outputs": []
    },
    {
      "cell_type": "code",
      "metadata": {
        "id": "rNq25rklXDE8"
      },
      "source": [
        "stop_words.extend(meaningless)"
      ],
      "execution_count": null,
      "outputs": []
    },
    {
      "cell_type": "code",
      "metadata": {
        "id": "aN4-lsF6ikJ5"
      },
      "source": [
        "stop_words.extend(meaningless)"
      ],
      "execution_count": null,
      "outputs": []
    },
    {
      "cell_type": "code",
      "metadata": {
        "id": "EN6Jm9c6mVWT"
      },
      "source": [
        "def removeMeaningless(data,meaningless_):\n",
        "    for word in meaningless_:\n",
        "        regex_meaningless = r\"\\b\" + word + r\"\\b\"\n",
        "        data['review_text_4'] = data['review_text_4'].str.replace(regex_meaningless, '')\n",
        "    return data"
      ],
      "execution_count": null,
      "outputs": []
    },
    {
      "cell_type": "code",
      "metadata": {
        "id": "9uM3qmUvmVWT"
      },
      "source": [
        "df = removeMeaningless(df,stop_words)"
      ],
      "execution_count": null,
      "outputs": []
    },
    {
      "cell_type": "code",
      "metadata": {
        "id": "79k9KAH2mVWU"
      },
      "source": [
        "df.to_csv(\"drive/My Drive/TA Lama/Preprocessing/data_trans_stop_nostem.csv\", index = False)"
      ],
      "execution_count": null,
      "outputs": []
    },
    {
      "cell_type": "markdown",
      "metadata": {
        "id": "BgBKoMtUmVWU"
      },
      "source": [
        "Before Stemming"
      ]
    },
    {
      "cell_type": "code",
      "metadata": {
        "id": "cHDzn2CcmVWV"
      },
      "source": [
        "afterstop = pd.DataFrame(columns = ['ulasan']) "
      ],
      "execution_count": null,
      "outputs": []
    },
    {
      "cell_type": "code",
      "metadata": {
        "id": "RuBfDa-ymVWV"
      },
      "source": [
        "afterstop['ulasan']= df['review_text_4']"
      ],
      "execution_count": null,
      "outputs": []
    },
    {
      "cell_type": "markdown",
      "metadata": {
        "id": "PDS-dfTd3zer"
      },
      "source": [
        "##Stemming Sastrawi"
      ]
    },
    {
      "cell_type": "code",
      "metadata": {
        "colab": {
          "base_uri": "https://localhost:8080/"
        },
        "id": "7fLcCfjw3c9O",
        "outputId": "7208822b-3691-4667-e06f-37ff8c0bde6c"
      },
      "source": [
        "!pip install PySastrawi"
      ],
      "execution_count": null,
      "outputs": [
        {
          "output_type": "stream",
          "text": [
            "Collecting PySastrawi\n",
            "\u001b[?25l  Downloading https://files.pythonhosted.org/packages/61/84/b0a5454a040f81e81e6a95a5d5635f20ad43cc0c288f8b4966b339084962/PySastrawi-1.2.0-py2.py3-none-any.whl (210kB)\n",
            "\u001b[K     |████████████████████████████████| 215kB 5.5MB/s \n",
            "\u001b[?25hInstalling collected packages: PySastrawi\n",
            "Successfully installed PySastrawi-1.2.0\n"
          ],
          "name": "stdout"
        }
      ]
    },
    {
      "cell_type": "code",
      "metadata": {
        "id": "5lHkw3SP4QSD"
      },
      "source": [
        "# import StemmerFactory class\n",
        "from Sastrawi.Stemmer.StemmerFactory import StemmerFactory"
      ],
      "execution_count": null,
      "outputs": []
    },
    {
      "cell_type": "code",
      "metadata": {
        "id": "cNcJVkC74SWq"
      },
      "source": [
        "# create stemmer\n",
        "factory = StemmerFactory()\n",
        "stemmer = factory.create_stemmer()"
      ],
      "execution_count": null,
      "outputs": []
    },
    {
      "cell_type": "code",
      "metadata": {
        "id": "C2_R_Z-84cR8"
      },
      "source": [
        "#Lakukan berkali kali IIII\n",
        "afterstop['stemmed'] = afterstop['ulasan'].apply(lambda x: stemmer.stem(x))"
      ],
      "execution_count": null,
      "outputs": []
    },
    {
      "cell_type": "code",
      "metadata": {
        "id": "10wcWGdh7h2N"
      },
      "source": [
        "afterstop.to_csv(\"drive/My Drive/TA Lama/Preprocessing/data_trans_stop_stem.csv\", index = False)"
      ],
      "execution_count": null,
      "outputs": []
    },
    {
      "cell_type": "markdown",
      "metadata": {
        "id": "20DUKweFcXuA"
      },
      "source": [
        "##Stemming data without stopwords removal"
      ]
    },
    {
      "cell_type": "code",
      "metadata": {
        "id": "3R1c9FP7ck5v"
      },
      "source": [
        "df = pd.read_csv(\"drive/My Drive/TA Lama/Preprocessing/data_trans_nostop_nostem.csv\")"
      ],
      "execution_count": null,
      "outputs": []
    },
    {
      "cell_type": "code",
      "metadata": {
        "colab": {
          "base_uri": "https://localhost:8080/",
          "height": 97
        },
        "id": "dbusMSU-ggBl",
        "outputId": "c679aeae-dd93-4247-c0fd-b64eb1d66570"
      },
      "source": [
        "df.head(1)"
      ],
      "execution_count": null,
      "outputs": [
        {
          "output_type": "execute_result",
          "data": {
            "text/html": [
              "<div>\n",
              "<style scoped>\n",
              "    .dataframe tbody tr th:only-of-type {\n",
              "        vertical-align: middle;\n",
              "    }\n",
              "\n",
              "    .dataframe tbody tr th {\n",
              "        vertical-align: top;\n",
              "    }\n",
              "\n",
              "    .dataframe thead th {\n",
              "        text-align: right;\n",
              "    }\n",
              "</style>\n",
              "<table border=\"1\" class=\"dataframe\">\n",
              "  <thead>\n",
              "    <tr style=\"text-align: right;\">\n",
              "      <th></th>\n",
              "      <th>review_id</th>\n",
              "      <th>review_text</th>\n",
              "      <th>harga</th>\n",
              "      <th>pengemasan</th>\n",
              "      <th>produk</th>\n",
              "      <th>aroma</th>\n",
              "      <th>review_text_1</th>\n",
              "      <th>review_text_2</th>\n",
              "      <th>review_text_3</th>\n",
              "      <th>review_text_4</th>\n",
              "    </tr>\n",
              "  </thead>\n",
              "  <tbody>\n",
              "    <tr>\n",
              "      <th>0</th>\n",
              "      <td>708</td>\n",
              "      <td>tabir surya termahal yang pernah gue beli ini ...</td>\n",
              "      <td>-1</td>\n",
              "      <td>0</td>\n",
              "      <td>1</td>\n",
              "      <td>0</td>\n",
              "      <td>tabir surya termahal yang pernah gue beli ini ...</td>\n",
              "      <td>tabir surya termahal yang pernah gue beli ini ...</td>\n",
              "      <td>tabir surya termahal yang pernah saya beli ini...</td>\n",
              "      <td>tabir surya termahal yang pernah saya beli ini...</td>\n",
              "    </tr>\n",
              "  </tbody>\n",
              "</table>\n",
              "</div>"
            ],
            "text/plain": [
              "   review_id  ...                                      review_text_4\n",
              "0        708  ...  tabir surya termahal yang pernah saya beli ini...\n",
              "\n",
              "[1 rows x 10 columns]"
            ]
          },
          "metadata": {
            "tags": []
          },
          "execution_count": 98
        }
      ]
    },
    {
      "cell_type": "code",
      "metadata": {
        "id": "4utdfmpigxFc"
      },
      "source": [
        "nostoptostem = pd.DataFrame(columns = ['ulasan']) "
      ],
      "execution_count": null,
      "outputs": []
    },
    {
      "cell_type": "code",
      "metadata": {
        "id": "i9s0ccbMgxFc"
      },
      "source": [
        "nostoptostem['ulasan']= df['review_text_4']"
      ],
      "execution_count": null,
      "outputs": []
    },
    {
      "cell_type": "code",
      "metadata": {
        "id": "wFRdTlOYgxFd"
      },
      "source": [
        "#Lakukan berkali kali IIII\n",
        "nostoptostem['stemmed'] = nostoptostem['ulasan'].apply(lambda x: stemmer.stem(x))"
      ],
      "execution_count": null,
      "outputs": []
    },
    {
      "cell_type": "code",
      "metadata": {
        "id": "d0bnd47qgxFd"
      },
      "source": [
        "nostoptostem.to_csv(\"drive/My Drive/TA Lama/Preprocessing/data_trans_nostop_stem.csv\", index = False)"
      ],
      "execution_count": null,
      "outputs": []
    }
  ]
}