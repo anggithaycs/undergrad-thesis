{
  "nbformat": 4,
  "nbformat_minor": 0,
  "metadata": {
    "colab": {
      "name": "[TA] 4. Splitting Dataset.ipynb",
      "provenance": [],
      "collapsed_sections": [],
      "mount_file_id": "1NYBHRcRA3pavU1YCVC2qSqpcz00OpS-V",
      "authorship_tag": "ABX9TyPZcM+0VX2jIfd7mhrsh2JO",
      "include_colab_link": true
    },
    "kernelspec": {
      "name": "python3",
      "display_name": "Python 3"
    }
  },
  "cells": [
    {
      "cell_type": "markdown",
      "metadata": {
        "id": "view-in-github",
        "colab_type": "text"
      },
      "source": [
        "<a href=\"https://colab.research.google.com/github/anggithaycs/undergrad-thesis/blob/codes/%5BTA%5D_4_Splitting_Dataset.ipynb\" target=\"_parent\"><img src=\"https://colab.research.google.com/assets/colab-badge.svg\" alt=\"Open In Colab\"/></a>"
      ]
    },
    {
      "cell_type": "code",
      "metadata": {
        "id": "3cm2lmL18GZp"
      },
      "source": [
        "import pandas as pd\r\n",
        "from sklearn.model_selection import train_test_split"
      ],
      "execution_count": null,
      "outputs": []
    },
    {
      "cell_type": "markdown",
      "metadata": {
        "id": "6di2y9oL8ca_"
      },
      "source": [
        "#Import Datasets"
      ]
    },
    {
      "cell_type": "code",
      "metadata": {
        "id": "5hBN8c9R8mHx"
      },
      "source": [
        "trans_stop_stem = pd.read_csv('drive/My Drive/TA Lama/Preprocessing/Format/data_trans_stop_stem.csv')\r\n",
        "trans_stop_nostem = pd.read_csv('drive/My Drive/TA Lama/Preprocessing/Format/data_trans_stop_nostem.csv')\r\n",
        "trans_nostop_stem = pd.read_csv('drive/My Drive/TA Lama/Preprocessing/Format/data_trans_nostop_stem.csv')\r\n",
        "trans_nostop_nostem = pd.read_csv('drive/My Drive/TA Lama/Preprocessing/Format/data_trans_nostop_nostem.csv')\r\n",
        "\r\n",
        "#notrans_stop_stem = pd.read_csv('drive/My Drive/TA/Preprocessing/Format/data_notrans_stop_stem.csv')\r\n",
        "#notrans_stop_nostem = pd.read_csv('drive/My Drive/TA/Preprocessing/Format/data_notrans_stop_nostem.csv')\r\n",
        "#notrans_nostop_stem = pd.read_csv('drive/My Drive/TA/Preprocessing/Format/data_notrans_nostop_stem.csv')\r\n",
        "#notrans_nostop_nostem = pd.read_csv('drive/My Drive/TA/Preprocessing/Format/data_notrans_nostop_nostem.csv')"
      ],
      "execution_count": null,
      "outputs": []
    },
    {
      "cell_type": "code",
      "metadata": {
        "colab": {
          "base_uri": "https://localhost:8080/",
          "height": 1000
        },
        "id": "Ma_oBybjd_Gn",
        "outputId": "4451335f-3757-49f4-f168-5a720931cb05"
      },
      "source": [
        "trans_stop_stem"
      ],
      "execution_count": null,
      "outputs": [
        {
          "output_type": "execute_result",
          "data": {
            "text/html": [
              "<div>\n",
              "<style scoped>\n",
              "    .dataframe tbody tr th:only-of-type {\n",
              "        vertical-align: middle;\n",
              "    }\n",
              "\n",
              "    .dataframe tbody tr th {\n",
              "        vertical-align: top;\n",
              "    }\n",
              "\n",
              "    .dataframe thead th {\n",
              "        text-align: right;\n",
              "    }\n",
              "</style>\n",
              "<table border=\"1\" class=\"dataframe\">\n",
              "  <thead>\n",
              "    <tr style=\"text-align: right;\">\n",
              "      <th></th>\n",
              "      <th>ulasan</th>\n",
              "      <th>harga</th>\n",
              "      <th>pengemasan</th>\n",
              "      <th>produk</th>\n",
              "      <th>aroma</th>\n",
              "    </tr>\n",
              "  </thead>\n",
              "  <tbody>\n",
              "    <tr>\n",
              "      <th>0</th>\n",
              "      <td>tabir surya mahal beli worth beli suka suncree...</td>\n",
              "      <td>-1.0</td>\n",
              "      <td>0.0</td>\n",
              "      <td>1.0</td>\n",
              "      <td>0.0</td>\n",
              "    </tr>\n",
              "    <tr>\n",
              "      <th>1</th>\n",
              "      <td>enak banget pakai ringan banget wajah lengket ...</td>\n",
              "      <td>0.0</td>\n",
              "      <td>0.0</td>\n",
              "      <td>1.0</td>\n",
              "      <td>0.0</td>\n",
              "    </tr>\n",
              "    <tr>\n",
              "      <th>2</th>\n",
              "      <td>urai produk cocok banget pakai pas cuaca panas...</td>\n",
              "      <td>0.0</td>\n",
              "      <td>0.0</td>\n",
              "      <td>1.0</td>\n",
              "      <td>1.0</td>\n",
              "    </tr>\n",
              "    <tr>\n",
              "      <th>3</th>\n",
              "      <td>wajah badan harga murah pakai wajah oksidasi t...</td>\n",
              "      <td>1.0</td>\n",
              "      <td>1.0</td>\n",
              "      <td>1.0</td>\n",
              "      <td>0.0</td>\n",
              "    </tr>\n",
              "    <tr>\n",
              "      <th>4</th>\n",
              "      <td>beli produk suka banget wangi jarang suka prod...</td>\n",
              "      <td>-1.0</td>\n",
              "      <td>0.0</td>\n",
              "      <td>0.0</td>\n",
              "      <td>1.0</td>\n",
              "    </tr>\n",
              "    <tr>\n",
              "      <th>...</th>\n",
              "      <td>...</td>\n",
              "      <td>...</td>\n",
              "      <td>...</td>\n",
              "      <td>...</td>\n",
              "      <td>...</td>\n",
              "    </tr>\n",
              "    <tr>\n",
              "      <th>5048</th>\n",
              "      <td>produk bikin bibir lembut halus bikin kering b...</td>\n",
              "      <td>1.0</td>\n",
              "      <td>0.0</td>\n",
              "      <td>1.0</td>\n",
              "      <td>1.0</td>\n",
              "    </tr>\n",
              "    <tr>\n",
              "      <th>5049</th>\n",
              "      <td>scrubnya lumayan badan asa bersih lembut bange...</td>\n",
              "      <td>0.0</td>\n",
              "      <td>0.0</td>\n",
              "      <td>0.0</td>\n",
              "      <td>0.0</td>\n",
              "    </tr>\n",
              "    <tr>\n",
              "      <th>5050</th>\n",
              "      <td>coba coba produk skincare gitu lumayan hasil k...</td>\n",
              "      <td>0.0</td>\n",
              "      <td>0.0</td>\n",
              "      <td>0.0</td>\n",
              "      <td>0.0</td>\n",
              "    </tr>\n",
              "    <tr>\n",
              "      <th>5051</th>\n",
              "      <td>harga murah ekonomis mudah butir kasar enak ku...</td>\n",
              "      <td>0.0</td>\n",
              "      <td>0.0</td>\n",
              "      <td>0.0</td>\n",
              "      <td>1.0</td>\n",
              "    </tr>\n",
              "    <tr>\n",
              "      <th>5052</th>\n",
              "      <td>suka lulur harga murah riah varian kualitas ba...</td>\n",
              "      <td>0.0</td>\n",
              "      <td>0.0</td>\n",
              "      <td>0.0</td>\n",
              "      <td>1.0</td>\n",
              "    </tr>\n",
              "  </tbody>\n",
              "</table>\n",
              "<p>5053 rows × 5 columns</p>\n",
              "</div>"
            ],
            "text/plain": [
              "                                                 ulasan  harga  ...  produk  aroma\n",
              "0     tabir surya mahal beli worth beli suka suncree...   -1.0  ...     1.0    0.0\n",
              "1     enak banget pakai ringan banget wajah lengket ...    0.0  ...     1.0    0.0\n",
              "2     urai produk cocok banget pakai pas cuaca panas...    0.0  ...     1.0    1.0\n",
              "3     wajah badan harga murah pakai wajah oksidasi t...    1.0  ...     1.0    0.0\n",
              "4     beli produk suka banget wangi jarang suka prod...   -1.0  ...     0.0    1.0\n",
              "...                                                 ...    ...  ...     ...    ...\n",
              "5048  produk bikin bibir lembut halus bikin kering b...    1.0  ...     1.0    1.0\n",
              "5049  scrubnya lumayan badan asa bersih lembut bange...    0.0  ...     0.0    0.0\n",
              "5050  coba coba produk skincare gitu lumayan hasil k...    0.0  ...     0.0    0.0\n",
              "5051  harga murah ekonomis mudah butir kasar enak ku...    0.0  ...     0.0    1.0\n",
              "5052  suka lulur harga murah riah varian kualitas ba...    0.0  ...     0.0    1.0\n",
              "\n",
              "[5053 rows x 5 columns]"
            ]
          },
          "metadata": {
            "tags": []
          },
          "execution_count": 3
        }
      ]
    },
    {
      "cell_type": "markdown",
      "metadata": {
        "id": "XXL7zbFg84NS"
      },
      "source": [
        "#Splitting Datasets"
      ]
    },
    {
      "cell_type": "markdown",
      "metadata": {
        "id": "Rn-Hh-C8MIt0"
      },
      "source": [
        "##Indo"
      ]
    },
    {
      "cell_type": "code",
      "metadata": {
        "id": "GNTtPp7f9Os1"
      },
      "source": [
        "def splitTrainTestIndo(df):\r\n",
        "    X_train, X_test, y_train, y_test = train_test_split(df['ulasan'], df[['harga','pengemasan','produk','aroma']], test_size = 0.25, random_state = 0)\r\n",
        "\r\n",
        "    data_train = y_train.copy() \r\n",
        "    data_train = data_train.join(X_train)\r\n",
        "\r\n",
        "    data_test = y_test.copy() \r\n",
        "    data_test = data_test.join(X_test)\r\n",
        "\r\n",
        "    return data_train, data_test"
      ],
      "execution_count": null,
      "outputs": []
    },
    {
      "cell_type": "code",
      "metadata": {
        "id": "6f7g6wdk1C09"
      },
      "source": [
        "def splitTrainTestIndo(df):\r\n",
        "    X_train, X_test, y_train, y_test = train_test_split(df['ulasan'], df[['harga','pengemasan','produk','aroma']], test_size = 0.25, random_state = None)\r\n",
        "\r\n",
        "    data_train = y_train.copy() \r\n",
        "    data_train = data_train.join(X_train)\r\n",
        "\r\n",
        "    data_test = y_test.copy() \r\n",
        "    data_test = data_test.join(X_test)\r\n",
        "\r\n",
        "    return data_train, data_test"
      ],
      "execution_count": null,
      "outputs": []
    },
    {
      "cell_type": "code",
      "metadata": {
        "id": "sN9bHpT69c06"
      },
      "source": [
        "train_trans_stop_stem, test_trans_stop_stem = splitTrainTestIndo(trans_stop_stem)"
      ],
      "execution_count": null,
      "outputs": []
    },
    {
      "cell_type": "code",
      "metadata": {
        "id": "2MFqud_hKcyV"
      },
      "source": [
        "train_trans_stop_nostem, test_trans_stop_nostem = splitTrainTestIndo(trans_stop_nostem)\r\n",
        "train_trans_nostop_stem, test_trans_nostop_stem = splitTrainTestIndo(trans_nostop_stem)\r\n",
        "train_trans_nostop_nostem, test_trans_nostop_nostem = splitTrainTestIndo(trans_nostop_nostem)"
      ],
      "execution_count": null,
      "outputs": []
    },
    {
      "cell_type": "markdown",
      "metadata": {
        "id": "N6TgVaNGMK8j"
      },
      "source": [
        "##Bilingual"
      ]
    },
    {
      "cell_type": "code",
      "metadata": {
        "id": "qWMSkeI-MFJ3"
      },
      "source": [
        "def splitTrainTestEng(df):\r\n",
        "    X_train, X_test, y_train, y_test = train_test_split(df['review'], df[['price','packaging','product','aroma']], test_size = 0.25, random_state = 0)\r\n",
        "\r\n",
        "    data_train = y_train.copy() \r\n",
        "    data_train = data_train.join(X_train)\r\n",
        "\r\n",
        "    data_test = y_test.copy() \r\n",
        "    data_test = data_test.join(X_test)\r\n",
        "\r\n",
        "    return data_train, data_test"
      ],
      "execution_count": null,
      "outputs": []
    },
    {
      "cell_type": "code",
      "metadata": {
        "id": "ry8xmUreLmhP"
      },
      "source": [
        "train_notrans_stop_stem, test_notrans_stop_stem = splitTrainTestEng(notrans_stop_stem)\r\n",
        "train_notrans_stop_nostem, test_notrans_stop_nostem = splitTrainTestEng(notrans_stop_nostem)\r\n",
        "train_notrans_nostop_stem, test_notrans_nostop_stem = splitTrainTestEng(notrans_nostop_stem)\r\n",
        "train_notrans_nostop_nostem, test_notrans_nostop_nostem = splitTrainTestEng(notrans_nostop_nostem)"
      ],
      "execution_count": null,
      "outputs": []
    },
    {
      "cell_type": "markdown",
      "metadata": {
        "id": "JHjGfDbq_Ywx"
      },
      "source": [
        "#Export Datasets"
      ]
    },
    {
      "cell_type": "code",
      "metadata": {
        "id": "w9DDnmOw-ONd"
      },
      "source": [
        "train_trans_stop_stem.to_csv(\"drive/My Drive/TA/Split/data_train_trans_full.csv\", index = False)\r\n",
        "test_trans_stop_stem.to_csv(\"drive/My Drive/TA/Split/data_test_trans_full.csv\", index = False)"
      ],
      "execution_count": null,
      "outputs": []
    },
    {
      "cell_type": "code",
      "metadata": {
        "id": "B9pZpwnbKu8G"
      },
      "source": [
        "train_trans_stop_nostem.to_csv(\"drive/My Drive/TA/Split/data_train_trans_nostem.csv\", index = False)\r\n",
        "test_trans_stop_nostem.to_csv(\"drive/My Drive/TA/Split/data_test_trans_nostem.csv\", index = False)\r\n",
        "\r\n",
        "train_trans_nostop_stem.to_csv(\"drive/My Drive/TA/Split/data_train_trans_nostop.csv\", index = False)\r\n",
        "test_trans_nostop_stem.to_csv(\"drive/My Drive/TA/Split/data_test_trans_nostop.csv\", index = False)\r\n",
        "\r\n",
        "train_trans_nostop_nostem.to_csv(\"drive/My Drive/TA/Split/data_train_trans_bald.csv\", index = False)\r\n",
        "test_trans_nostop_nostem.to_csv(\"drive/My Drive/TA/Split/data_test_trans_bald.csv\", index = False)"
      ],
      "execution_count": null,
      "outputs": []
    },
    {
      "cell_type": "code",
      "metadata": {
        "id": "Ac2Vjd0fMzl_"
      },
      "source": [
        "train_notrans_stop_stem.to_csv(\"drive/My Drive/TA/Splitted/data_train_notrans_stop_stem.csv\", index = False)\r\n",
        "test_notrans_stop_stem.to_csv(\"drive/My Drive/TA/Splitted/data_test_notrans_stop_stem.csv\", index = False)\r\n",
        "\r\n",
        "train_notrans_stop_nostem.to_csv(\"drive/My Drive/TA/Splitted/data_train_notrans_stop_nostem.csv\", index = False)\r\n",
        "test_notrans_stop_nostem.to_csv(\"drive/My Drive/TA/Splitted/data_test_notrans_stop_nostem.csv\", index = False)\r\n",
        "\r\n",
        "train_notrans_nostop_stem.to_csv(\"drive/My Drive/TA/Splitted/data_train_notrans_nostop_stem.csv\", index = False)\r\n",
        "test_notrans_nostop_stem.to_csv(\"drive/My Drive/TA/Splitted/data_test_notrans_nostop_stem.csv\", index = False)\r\n",
        "\r\n",
        "train_notrans_nostop_nostem.to_csv(\"drive/My Drive/TA/Splitted/data_train_notrans_nostop_nostem.csv\", index = False)\r\n",
        "test_notrans_nostop_nostem.to_csv(\"drive/My Drive/TA/Splitted/data_test_notrans_nostop_nostem.csv\", index = False)"
      ],
      "execution_count": null,
      "outputs": []
    }
  ]
}